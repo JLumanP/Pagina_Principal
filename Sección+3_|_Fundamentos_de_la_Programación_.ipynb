{
  "nbformat": 4,
  "nbformat_minor": 0,
  "metadata": {
    "colab": {
      "provenance": [],
      "authorship_tag": "ABX9TyPIDcZHhwx960j0HUHrpX+K",
      "include_colab_link": true
    },
    "kernelspec": {
      "name": "python3",
      "display_name": "Python 3"
    },
    "language_info": {
      "name": "python"
    }
  },
  "cells": [
    {
      "cell_type": "markdown",
      "metadata": {
        "id": "view-in-github",
        "colab_type": "text"
      },
      "source": [
        "<a href=\"https://colab.research.google.com/github/JLumanP/Pagina_Principal/blob/master/Secci%C3%B3n%2B3_%7C_Fundamentos_de_la_Programaci%C3%B3n_.ipynb\" target=\"_parent\"><img src=\"https://colab.research.google.com/assets/colab-badge.svg\" alt=\"Open In Colab\"/></a>"
      ]
    },
    {
      "cell_type": "code",
      "execution_count": null,
      "metadata": {
        "id": "8rDP3Xo3Bb84"
      },
      "outputs": [],
      "source": []
    },
    {
      "cell_type": "markdown",
      "source": [
        "Sección+3 | Fundamentos de la **Programación**"
      ],
      "metadata": {
        "id": "xzYkp95TBcxb"
      }
    },
    {
      "cell_type": "markdown",
      "source": [
        "Pide el nombre, apellido y edad del usuario. Después muestra un saludo y su edad\n",
        "dentro de 10 años."
      ],
      "metadata": {
        "id": "WYh7aRBjBo6V"
      }
    },
    {
      "cell_type": "code",
      "source": [
        "nombre = input(\"Diga su nombre: \")\n",
        "edad = int(input(\"Diga su edad: \"))\n",
        "edad_futura = edad + 10\n",
        "print(\"Hola\", nombre, \", su edad dentro de 10 años será de,\", edad_futura, \"años.\")"
      ],
      "metadata": {
        "colab": {
          "base_uri": "https://localhost:8080/"
        },
        "id": "Qlw6_ZvcB7GX",
        "outputId": "513bf316-72fb-4476-d525-c9b992a13c6e"
      },
      "execution_count": 8,
      "outputs": [
        {
          "output_type": "stream",
          "name": "stdout",
          "text": [
            "Diga su nombre: José Luis\n",
            "Diga su edad: 34\n",
            "Hola José Luis , su edad dentro de 10 años será de, 44 años.\n"
          ]
        }
      ]
    },
    {
      "cell_type": "markdown",
      "source": [
        "Pide la base y altura con números decimales de un rectángulo. Calcula el área y\n",
        "muestrala"
      ],
      "metadata": {
        "id": "jOnscKVQDX7w"
      }
    },
    {
      "cell_type": "code",
      "source": [
        "base = float(input(\"Ingrese la base del rectangulo: \"))\n",
        "altura = float(input(\"Ingrese la altura del rextangulo: \"))\n",
        "area = base * altura\n",
        "print(\"El área de este rectangulo es de: \", area)"
      ],
      "metadata": {
        "colab": {
          "base_uri": "https://localhost:8080/"
        },
        "id": "QKatzlprDYvw",
        "outputId": "d215abb6-e7b8-49db-d65a-5010b2655568"
      },
      "execution_count": 10,
      "outputs": [
        {
          "output_type": "stream",
          "name": "stdout",
          "text": [
            "Ingrese la base del rectangulo: 32.8\n",
            "Ingrese la altura del rextangulo: 34.9\n",
            "El área de este rectangulo es de:  1144.7199999999998\n"
          ]
        }
      ]
    },
    {
      "cell_type": "markdown",
      "source": [
        "Utiliza el operador + para concatenar cadenas con el ejemplo que tu desees"
      ],
      "metadata": {
        "id": "-lkBPvuyEI5A"
      }
    },
    {
      "cell_type": "code",
      "source": [
        "nombre = input(\"Ingrese su nombre: \")\n",
        "apellido = input(\"Ingrese sus apellidos: \")\n",
        "carrera = input(\"Ingrese la carrera a estudiar: \")\n",
        "fecha_inicio = input(\"ingrese la fecha que comienza a estudiar: \")\n",
        "saludo = \"Universidad Andrés Bello Certifica que el Sr(a), \" + nombre + \" \" + apellido + \" comenzará a estudiar la carrera de \" + carrera + \" a contar del \" + fecha_inicio\n",
        "print(saludo)"
      ],
      "metadata": {
        "colab": {
          "base_uri": "https://localhost:8080/"
        },
        "id": "vRo_VGvdEJn9",
        "outputId": "7a4d4e69-d74b-4a62-9174-a8e2e3e18fbe"
      },
      "execution_count": 20,
      "outputs": [
        {
          "output_type": "stream",
          "name": "stdout",
          "text": [
            "Ingrese su nombre: José Luis\n",
            "Ingrese sus apellidos: Luman Pérez\n",
            "Ingrese la carrera a estudiar: Ingeniería en Computación e Informática\n",
            "ingrese la fecha que comienza a estudiar: 04-03-2024\n",
            "Universidad Andrés Bello Certifica que el Sr(a), José Luis Luman Pérez comenzará a estudiar la carrera de Ingeniería en Computación e Informática a contar del 04-03-2024\n"
          ]
        }
      ]
    },
    {
      "cell_type": "markdown",
      "source": [
        "Crea un array con numeros, sumalos y muestra el total"
      ],
      "metadata": {
        "id": "dlpOoq0mHkUw"
      }
    },
    {
      "cell_type": "code",
      "source": [
        "numeros = [2,4,6,8,10]\n",
        "suma = numeros[0]+numeros[1]+numeros[2]+numeros[3]+numeros[4]\n",
        "print(\"La suma de los números de este arrays es: \", suma)"
      ],
      "metadata": {
        "colab": {
          "base_uri": "https://localhost:8080/"
        },
        "id": "_51ckgD4Hlxg",
        "outputId": "85cf25b7-6e4f-4b81-9b8d-426f3872750f"
      },
      "execution_count": 21,
      "outputs": [
        {
          "output_type": "stream",
          "name": "stdout",
          "text": [
            "La suma de los números de este arrays es:  30\n"
          ]
        }
      ]
    },
    {
      "cell_type": "markdown",
      "source": [
        "Crea una matriz 2x2 y muéstrala por pantalla"
      ],
      "metadata": {
        "id": "-Y6Dj7EmIWR9"
      }
    },
    {
      "cell_type": "code",
      "source": [
        "matriz = [[1,2],[3,4]]\n",
        "print(\"EL valor en la posición (0, 0) es: \", matriz[0][0])\n",
        "print(\"EL valor en la posición (0, 1) es: \", matriz[0][1])\n",
        "print(\"EL valor en la posición (1, 0) es: \", matriz[1][0])\n",
        "print(\"EL valor en la posición (1, 1) es: \", matriz[1][1])"
      ],
      "metadata": {
        "colab": {
          "base_uri": "https://localhost:8080/"
        },
        "id": "LOibdswAIXEu",
        "outputId": "e7c917d6-4a11-4c13-aa15-972ff85f815c"
      },
      "execution_count": 22,
      "outputs": [
        {
          "output_type": "stream",
          "name": "stdout",
          "text": [
            "EL valor en la posición (0, 0) es:  1\n",
            "EL valor en la posición (0, 1) es:  2\n",
            "EL valor en la posición (1, 0) es:  3\n",
            "EL valor en la posición (1, 1) es:  4\n"
          ]
        }
      ]
    }
  ]
}