{
  "nbformat": 4,
  "nbformat_minor": 0,
  "metadata": {
    "colab": {
      "provenance": [],
      "authorship_tag": "ABX9TyN+Ht16UtPE1JyW3HfX6764",
      "include_colab_link": true
    },
    "kernelspec": {
      "name": "python3",
      "display_name": "Python 3"
    },
    "language_info": {
      "name": "python"
    }
  },
  "cells": [
    {
      "cell_type": "markdown",
      "metadata": {
        "id": "view-in-github",
        "colab_type": "text"
      },
      "source": [
        "<a href=\"https://colab.research.google.com/github/JLumanP/Pagina_Principal/blob/master/Secci%C3%B3n%2B4.ipynb\" target=\"_parent\"><img src=\"https://colab.research.google.com/assets/colab-badge.svg\" alt=\"Open In Colab\"/></a>"
      ]
    },
    {
      "cell_type": "markdown",
      "source": [
        "Comprueba si un numero es par o impar"
      ],
      "metadata": {
        "id": "pdTt4v0oxaPn"
      }
    },
    {
      "cell_type": "code",
      "source": [
        "numero = int(input(\"Ingrese un numero: \"))\n",
        "if numero % 2 == 0:\n",
        "  print(numero, \"Es un numero par\")\n",
        "else:\n",
        "  print(numero, \"Es un numero impar\")"
      ],
      "metadata": {
        "colab": {
          "base_uri": "https://localhost:8080/"
        },
        "id": "gyWDpC49xcVX",
        "outputId": "82e61379-474b-4251-d61d-45cb90c18098"
      },
      "execution_count": 3,
      "outputs": [
        {
          "output_type": "stream",
          "name": "stdout",
          "text": [
            "Ingrese un numero: 1\n",
            "1 Es un numero impar\n"
          ]
        }
      ]
    },
    {
      "cell_type": "markdown",
      "source": [
        "Comprueba si un año es bisiesto. Es decir múltiplo de 4, Si es múltiplo de 100 también\n",
        "debe serlo de 400 para ser considerado bisiesto"
      ],
      "metadata": {
        "id": "4_S7pupeyKbM"
      }
    },
    {
      "cell_type": "code",
      "source": [
        "anio = int(input(\"Ingrese el año: \"))\n",
        "if anio % 4 == 0:\n",
        "  if anio % 100 -- 0:\n",
        "    if anio % 400 == 0:\n",
        "      print(anio, \"es un año bisiesto\")\n",
        "    else:\n",
        "      print(anio, \"no es un año bisiesto\")\n",
        "  else:\n",
        "     print(anio, \"es un año bisiesto\")\n",
        "else:\n",
        "  print(anio, \"no es un año bisiesto\")"
      ],
      "metadata": {
        "colab": {
          "base_uri": "https://localhost:8080/"
        },
        "id": "epKlneDWyOIc",
        "outputId": "c9469512-0821-4940-a5fe-53f8de384060"
      },
      "execution_count": 24,
      "outputs": [
        {
          "output_type": "stream",
          "name": "stdout",
          "text": [
            "Ingrese el año: 2000\n",
            "2000 es un año bisiesto\n"
          ]
        }
      ]
    },
    {
      "cell_type": "markdown",
      "source": [
        "Comprueba si un numero esta en el rango del 1 al 100 incluidos"
      ],
      "metadata": {
        "id": "WTmKjqGU0DtT"
      }
    },
    {
      "cell_type": "code",
      "source": [
        "num = int(input(\"Ingrese el número: \"))\n",
        "if num >=1 and num <=100:\n",
        "  print(\"El número está entre el 1 al 100\")\n",
        "else:\n",
        "  print(\"El número NO está entre el 1 al 100\")"
      ],
      "metadata": {
        "colab": {
          "base_uri": "https://localhost:8080/"
        },
        "id": "d7rHBwhh0EeC",
        "outputId": "32c886a7-7532-444d-f7f0-1827d1f46468"
      },
      "execution_count": 27,
      "outputs": [
        {
          "output_type": "stream",
          "name": "stdout",
          "text": [
            "Ingrese el número: 1\n",
            "El número está entre el 1 al 100\n"
          ]
        }
      ]
    },
    {
      "cell_type": "markdown",
      "source": [
        "Comprueba si la edad de alguien le convierte o no en mayor de edad"
      ],
      "metadata": {
        "id": "n2I6rYmv0tQ6"
      }
    },
    {
      "cell_type": "code",
      "source": [
        "edad = int(input(\"Ingrese la edad: \"))\n",
        "if edad >= 18:\n",
        "  print(\"Es mayor de edad\")\n",
        "else:\n",
        "  print(\"Es menor de edad\")"
      ],
      "metadata": {
        "colab": {
          "base_uri": "https://localhost:8080/"
        },
        "id": "5JzXcVgu0uC4",
        "outputId": "48b32d4f-ce6e-4c3c-a409-21df01c07a10"
      },
      "execution_count": 30,
      "outputs": [
        {
          "output_type": "stream",
          "name": "stdout",
          "text": [
            "Ingrese la edad: -1\n",
            "Es menor de edad\n"
          ]
        }
      ]
    }
  ]
}